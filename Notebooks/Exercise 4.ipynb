{
 "cells": [
  {
   "cell_type": "markdown",
   "metadata": {},
   "source": [
    "# Exercise 4 - Logic Programming Using SymPy\n",
    "## a) Checking for Prime numbers"
   ]
  },
  {
   "cell_type": "markdown",
   "metadata": {},
   "source": [
    "### AIM:\n",
    "To write a python program for checking prime numbers using SymPy.\n",
    "\n",
    "### FUNCTIONS USED:\n",
    "```\n",
    "sympy.prime(n)\n",
    "    Input : n - A number\n",
    "   Output : nth prime number\n",
    "\n",
    "sympy.isprime(n)\n",
    "    Input : n - A number\n",
    "   Output : Bool - whether n is a prime\n",
    "\n",
    "sympy.primerange(start, end)\n",
    "    Input : start - start of the prime range\n",
    "            end - end of the prime range\n",
    "   Output : Generator yeilding prime numbers in\n",
    "            the range [start,end)\n",
    "            \n",
    "sympy.sieve.primerange(n) \n",
    "    Same as sympy.primerange\n",
    "    But uses a Sieve instance to store the \n",
    "    previously computed values which is \n",
    "    more efficient and consumes more space\n",
    "\n",
    "sympy.randprime(start, end)\n",
    "    Input : start - start of the  range\n",
    "            end - end of the  range\n",
    "   Output : A random prime number within \n",
    "            the range [start,end)\n",
    "            \n",
    "sympy.prevprime(n)\n",
    "    Input : n - A number\n",
    "   Output : largest prime number less than n\n",
    "            \n",
    "sympy.nextprime(n)\n",
    "    Input : n - A number\n",
    "   Output : smallest prime number greater than n\n",
    "``` "
   ]
  },
  {
   "cell_type": "markdown",
   "metadata": {},
   "source": [
    "### SOURCE CODE:"
   ]
  },
  {
   "cell_type": "code",
   "execution_count": 1,
   "metadata": {},
   "outputs": [
    {
     "name": "stdout",
     "output_type": "stream",
     "text": [
      "The 5th prime is: 11\n",
      "The 13th prime is: 41\n",
      "Is 5 a prime number: True\n",
      "Is 6 a prime number: False\n",
      "The prime numbers between 0 & 100 are:\n",
      "[2, 3, 5, 7, 11, 13, 17, 19, 23, 29, 31, 37, 41, 43, 47, 53, 59, 61, 67, 71, 73, 79, 83, 89, 97]\n",
      "The prime numbers between 0 & 100 are(Using Sieve):\n",
      "[2, 3, 5, 7, 11, 13, 17, 19, 23, 29, 31, 37, 41, 43, 47, 53, 59, 61, 67, 71, 73, 79, 83, 89, 97]\n",
      "A random prime between 0 & 100: 37\n",
      "A random prime between 0 & 100: 19\n",
      "The largest prime less than 50 is: 47\n",
      "The smallest prime greater than 50 is: 53\n"
     ]
    }
   ],
   "source": [
    "import sympy\n",
    "if __name__ == \"__main__\":\n",
    "    print(\"The 5th prime is:\",sympy.prime(5))\n",
    "    print(\"The 13th prime is:\",sympy.prime(13))\n",
    "    print(\"Is 5 a prime number:\",sympy.isprime(5))\n",
    "    print(\"Is 6 a prime number:\",sympy.isprime(6))\n",
    "    print(\n",
    "        \"The prime numbers between 0 & 100 are:\",\n",
    "        list(sympy.primerange(0, 100)),sep=\"\\n\"\n",
    "    )\n",
    "    print(\n",
    "        \"The prime numbers between 0 & 100 are(Using Sieve):\",\n",
    "        list(sympy.sieve.primerange(0, 100)),sep=\"\\n\"\n",
    "    )\n",
    "    print(\"A random prime between 0 & 100:\", sympy.randprime(0, 100))\n",
    "    print(\"A random prime between 0 & 100:\", sympy.randprime(0, 100))\n",
    "    print(\"The largest prime less than 50 is:\", sympy.prevprime(50))\n",
    "    print(\"The smallest prime greater than 50 is:\", sympy.nextprime(50))"
   ]
  },
  {
   "cell_type": "markdown",
   "metadata": {},
   "source": [
    "---"
   ]
  },
  {
   "cell_type": "markdown",
   "metadata": {},
   "source": [
    "## b) Matching Mathematical Exprressions"
   ]
  },
  {
   "cell_type": "markdown",
   "metadata": {},
   "source": [
    "### AIM:\n",
    "To write a python program for matching mathematical exprressions using SymPy.\n",
    "\n",
    "### FUNCTIONS USED:\n",
    "```\n",
    "sympy.diff(f, *variables)\n",
    "    Input : f - A mathematical function\n",
    "            variables - Mathematical variables\n",
    "   Output : The deriviative of the function f \n",
    "            with respect to the variables\n",
    "\n",
    "sympy.integrate(f, *variables)\n",
    "    Input : f - A mathematical function\n",
    "            variables - Mathematical variables\n",
    "   Output : The anti-deriviative or integral of the function f \n",
    "            with respect to the variables\n",
    "\n",
    "sympy.sin(x)\n",
    "    Input : x - A number \n",
    "   Output : Mathematical sine value of the number x \n",
    "\n",
    "sympy.cos(x)\n",
    "    Input : x - A number \n",
    "   Output : Mathematical cosine value of the number x \n",
    "\n",
    "sympy.exp(x)\n",
    "    Input : x - A number \n",
    "   Output : Mathematical exponential  value = e^x\n",
    "\n",
    "sympy.limit(e, x, x0, dir)\n",
    "    Input : e - expression, the limit of which is to be taken\n",
    "            x -  variable in the limit.\n",
    "            x0 - the value toward which x tends. \n",
    "            dir - direction of approach of the limit\n",
    "                  accepts the values [\"+\", \"-\", \"+-\"]\n",
    "   Output : The mathematical limit of the expression e as \n",
    "            the variable x tends to x0\n",
    "            \n",
    "sympy.solve(f,*variables)\n",
    "    Input : f   - polynomial\n",
    "                - transcendental\n",
    "                - piecewise combinations of the above\n",
    "                - systems of linear and polynomial equations\n",
    "                - systems containing relational expressions\n",
    "            variables - Mathematical variables\n",
    "   Output : The required mathematical solution \n",
    "            for the input(varies according to the input)\n",
    "``` "
   ]
  },
  {
   "cell_type": "markdown",
   "metadata": {},
   "source": [
    "### SOURCE CODE:"
   ]
  },
  {
   "cell_type": "code",
   "execution_count": 2,
   "metadata": {},
   "outputs": [
    {
     "name": "stdout",
     "output_type": "stream",
     "text": [
      "The derivative of sin(x)*e^x is : exp(x)*sin(x) + exp(x)*cos(x)\n",
      "The indefinite integration of e^x*sin(x)+e^x*cos(x) is : exp(x)*sin(x)\n",
      "The definite integration of sin(x^2) from -oo to oo is : sqrt(2)*sqrt(pi)/2\n",
      "The limit of sin(x)/x as x tends to 0 is : 1\n",
      "The roots of the equation x^2-2 = 0 are : [-sqrt(2), sqrt(2)]\n"
     ]
    }
   ],
   "source": [
    "from sympy import (\n",
    "    diff, integrate, sin, cos, \n",
    "    exp, limit, solve, oo\n",
    ")\n",
    "from sympy.abc import x\n",
    "if __name__ == \"__main__\":\n",
    "    print(\"The derivative of sin(x)*e^x is :\", diff(sin(x)*exp(x), x))\n",
    "    print(\n",
    "        \"The indefinite integration of e^x*sin(x)+e^x*cos(x) is :\",\n",
    "        integrate(exp(x)*sin(x) + exp(x)*cos(x), x)\n",
    "    )\n",
    "    print(\n",
    "        \"The definite integration of sin(x^2) from -oo to oo is :\",\n",
    "        integrate(sin(x**2), (x, -oo, oo))\n",
    "    )\n",
    "    print(\n",
    "        \"The limit of sin(x)/x as x tends to 0 is :\",\n",
    "        limit(sin(x)/x, x, 0)\n",
    "    )\n",
    "    print(\n",
    "        \"The roots of the equation x^2-2 = 0 are :\",\n",
    "        solve(x**2 - 2, x)\n",
    "    )"
   ]
  },
  {
   "cell_type": "markdown",
   "metadata": {},
   "source": [
    "---"
   ]
  }
 ],
 "metadata": {
  "kernelspec": {
   "display_name": "Python 3",
   "language": "python",
   "name": "python3"
  },
  "language_info": {
   "codemirror_mode": {
    "name": "ipython",
    "version": 3
   },
   "file_extension": ".py",
   "mimetype": "text/x-python",
   "name": "python",
   "nbconvert_exporter": "python",
   "pygments_lexer": "ipython3",
   "version": "3.8.3"
  }
 },
 "nbformat": 4,
 "nbformat_minor": 4
}
