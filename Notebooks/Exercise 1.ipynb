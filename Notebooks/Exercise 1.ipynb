{
 "cells": [
  {
   "cell_type": "markdown",
   "metadata": {},
   "source": [
    "# Exercise 1 - Blind Search Techniques\n",
    "## a) Breadth First Search (BFS)"
   ]
  },
  {
   "cell_type": "markdown",
   "metadata": {},
   "source": [
    "### AIM:\n",
    "To write a python program to implement Breadth First Search algorithm in a graph.\n",
    "\n",
    "### ALGORITHM:\n",
    "```\n",
    "Algorithm BFS(g, start, goal)\n",
    "    Input : g - A Graph\n",
    "            start - starting node for the BFS \n",
    "            goal - target node to be found\n",
    "   Output : a path from start to goal in the graph g\n",
    "   \n",
    "    fringe <- Queue([start])\n",
    "    predecessor <- Dict({start:NULL})\n",
    "    visited <- Set([start])\n",
    "    while fringe != Queue([]) //fringe is not empty\n",
    "        current_node <- fringe.dequeue()\n",
    "        if current_node = goal\n",
    "            return traceback_path(goal,predecessor)\n",
    "        for neighbour in g.neighbours(current)\n",
    "            if neighbour not in visited:\n",
    "                visited.add(neighbour)\n",
    "                fringe.enqueue(neighbour)\n",
    "                predecessor[neighbour] <- current\n",
    "    return []\n",
    "end Algorithm\n",
    "\n",
    "Algorithm traceback_path(goal, predecessor)\n",
    "    Input : goal - the goal node \n",
    "            predecessor - a dictionary with each node as key \n",
    "                        and its predecessor as value         \n",
    "   Output : a path from start node to goal node as List\n",
    "   \n",
    "   current <- goal\n",
    "   path <- deque()\n",
    "   do\n",
    "       path.appendleft(goal)\n",
    "       current <- predecessor[current]\n",
    "    while current\n",
    "    return path\n",
    "end Algorithm\n",
    "``` "
   ]
  },
  {
   "cell_type": "markdown",
   "metadata": {},
   "source": [
    "### SOURCE CODE:"
   ]
  },
  {
   "cell_type": "code",
   "execution_count": 1,
   "metadata": {},
   "outputs": [
    {
     "name": "stdout",
     "output_type": "stream",
     "text": [
      "Current Node    | Fringe\n",
      "-               | A\n",
      "A               | S B\n",
      "B               | S\n",
      "S               | C G\n",
      "G               | F H C\n",
      "C               | E D F H\n",
      "Path: A => S => G => H\n"
     ]
    }
   ],
   "source": [
    "from collections import deque\n",
    "class Graph:\n",
    "    def __init__(self, directed):\n",
    "        self.edges={}\n",
    "        self.directed = directed\n",
    "    \n",
    "    def add_edge(self, node1, node2,_reversed=False):\n",
    "        try:\n",
    "            self.edges[node1].add(node2)\n",
    "        except KeyError:\n",
    "            self.edges[node1] = set()\n",
    "            self.edges[node1].add(node2)\n",
    "        if not self.directed and not _reversed:\n",
    "            self.add_edge(node2,node1,True)\n",
    "    \n",
    "    def add_edges(self, edges):\n",
    "        for edge in edges:\n",
    "            self.add_edge(edge[0],edge[1])\n",
    "\n",
    "    def neighbours(self, node):\n",
    "        try:\n",
    "            return self.edges[node]\n",
    "        except KeyError:\n",
    "            return []\n",
    "        \n",
    "    @staticmethod\n",
    "    def traceback_path(goal, predecessor):\n",
    "        current,path = goal,deque()\n",
    "        while True:\n",
    "            path.appendleft(current)\n",
    "            current = predecessor[current]\n",
    "            if current is None: break\n",
    "        return path\n",
    "    \n",
    "    def bfs(self, start, goal):\n",
    "        fringe = deque(start)\n",
    "        visited = {start}\n",
    "        predecessor = {start: None}\n",
    "        current = '-'\n",
    "        print(f\"{'Current Node':15} | {'Fringe'}\")\n",
    "        while fringe:\n",
    "            print(f\"{current:15} |\", *fringe)\n",
    "            current = fringe.pop()\n",
    "            if current == goal:\n",
    "                path =  Graph.traceback_path(goal,predecessor)\n",
    "                print(f\"Path: {' => '.join(path)}\") \n",
    "                return path\n",
    "            for x in self.neighbours(current):\n",
    "                if x not in visited:\n",
    "                    fringe.appendleft(x)\n",
    "                    visited.add(x)\n",
    "                    predecessor[x] = current\n",
    "\n",
    "if __name__ == \"__main__\":\n",
    "    g = Graph(directed = False)\n",
    "    g.add_edges([\n",
    "        (\"A\",\"B\"),(\"A\",\"S\"),(\"S\",\"G\"),(\"S\",\"C\"),(\"C\",\"F\"),\n",
    "        (\"G\",\"F\"),(\"C\",\"D\"),(\"C\",\"E\"),(\"E\",\"H\"),(\"G\",\"H\")\n",
    "    ])\n",
    "    start,goal = \"A\",\"H\"\n",
    "    g.bfs(start,goal) or print(\"No paths Found!\")\n",
    "    "
   ]
  },
  {
   "cell_type": "markdown",
   "metadata": {},
   "source": [
    "---"
   ]
  },
  {
   "cell_type": "markdown",
   "metadata": {},
   "source": [
    "## b) Depth First Search (DFS)"
   ]
  },
  {
   "cell_type": "markdown",
   "metadata": {},
   "source": [
    "### AIM:\n",
    "To write a python program to implement Depth First Search algorithm in a graph.\n",
    "\n",
    "### ALGORITHM:\n",
    "```\n",
    "Algorithm DFS(g, start, goal)\n",
    "    Input : g - A Graph\n",
    "            start - starting node for the DFS \n",
    "            goal - target node to be found\n",
    "   Output : a path from start to goal in the graph g\n",
    "   \n",
    "    fringe <- Stack([start])\n",
    "    predecessor <- Dict({start:Null})\n",
    "    visited <- Set([start])\n",
    "    while fringe != Stack([]) //fringe is not empty\n",
    "        current_node <- fringe.pop()\n",
    "        if current_node = goal\n",
    "            return traceback_path(goal,predecessor)\n",
    "        for neighbour in g.neighbours(current)\n",
    "            if neighbour not in visited:\n",
    "                visited.add(neighbour)\n",
    "                fringe.push(neighbour)\n",
    "                predecessor[neighbour] <- current\n",
    "    return []\n",
    "end Algorithm\n",
    "\n",
    "Algorithm traceback_path(goal, predecessor)\n",
    "    Input : goal - the goal node \n",
    "            predecessor - a dictionary with each node as key \n",
    "                        and its predecessor as value         \n",
    "   Output : a path from start node to goal node as List\n",
    "   \n",
    "   current <- goal\n",
    "   path <- deque()\n",
    "   do\n",
    "       path.appendleft(goal)\n",
    "       current <- predecessor[current]\n",
    "    while current\n",
    "    return path\n",
    "end Algorithm\n",
    "``` "
   ]
  },
  {
   "cell_type": "markdown",
   "metadata": {},
   "source": [
    "### SOURCE CODE:"
   ]
  },
  {
   "cell_type": "code",
   "execution_count": 2,
   "metadata": {},
   "outputs": [],
   "source": [
    "# The below program is same as the previous one \n",
    "# except the change of bfs to dfs in which \n",
    "# the only change is using append function \n",
    "# instead of appendleft on the fringe to change \n",
    "# the behaviour of the fringe from queue to stack\n"
   ]
  },
  {
   "cell_type": "code",
   "execution_count": 3,
   "metadata": {},
   "outputs": [
    {
     "name": "stdout",
     "output_type": "stream",
     "text": [
      "Current Node    | Fringe\n",
      "-               | A\n",
      "A               | B S\n",
      "S               | B G C\n",
      "C               | B G D F E\n",
      "E               | B G D F H\n",
      "Path: A => S => C => E => H\n"
     ]
    }
   ],
   "source": [
    "from collections import deque\n",
    "\n",
    "class Graph:\n",
    "    def __init__(self, directed):\n",
    "        self.edges={}\n",
    "        self.directed = directed\n",
    "    \n",
    "    def add_edge(self, node1, node2,__reversed=False):\n",
    "        try:\n",
    "            self.edges[node1].add(node2)\n",
    "        except KeyError:\n",
    "            self.edges[node1] = set()\n",
    "            self.edges[node1].add(node2)\n",
    "        if not self.directed and not __reversed:\n",
    "            self.add_edge(node2,node1,True)\n",
    "    \n",
    "    def add_edges(self, edges):\n",
    "        for edge in edges:\n",
    "            self.add_edge(edge[0],edge[1])\n",
    "\n",
    "    def neighbours(self, node):\n",
    "        try:\n",
    "            return self.edges[node]\n",
    "        except KeyError:\n",
    "            return []\n",
    "        \n",
    "    @staticmethod\n",
    "    def traceback_path(goal, predecessor):\n",
    "        current,path = goal,deque()\n",
    "        while True:\n",
    "            path.appendleft(current)\n",
    "            current = predecessor[current]\n",
    "            if current is None: break\n",
    "        return path\n",
    "    \n",
    "    def dfs(self, start, goal):\n",
    "        fringe = deque(start)\n",
    "        visited = {start}\n",
    "        predecessor = {start: None}\n",
    "        current = '-'\n",
    "        print(f\"{'Current Node':15} | {'Fringe'}\")\n",
    "        while fringe:\n",
    "            print(f\"{current:15} |\", *fringe)\n",
    "            current = fringe.pop()\n",
    "            if current == goal:\n",
    "                path =  Graph.traceback_path(goal,predecessor)\n",
    "                print(f\"Path: {' => '.join(path)}\") \n",
    "                return path\n",
    "            for x in self.neighbours(current):\n",
    "                if x not in visited:\n",
    "                    fringe.append(x)\n",
    "                    visited.add(x)\n",
    "                    predecessor[x] = current\n",
    "\n",
    "if __name__ == \"__main__\":\n",
    "    g = Graph(directed = False)\n",
    "    g.add_edges([\n",
    "        (\"A\",\"B\"),(\"A\",\"S\"),(\"S\",\"G\"),(\"S\",\"C\"),(\"C\",\"F\"),\n",
    "        (\"G\",\"F\"),(\"C\",\"D\"),(\"C\",\"E\"),(\"E\",\"H\"),(\"G\",\"H\")\n",
    "    ])\n",
    "    start,goal = \"A\",\"H\"\n",
    "    g.dfs(start,goal) or print(\"No paths Found!\")"
   ]
  },
  {
   "cell_type": "markdown",
   "metadata": {},
   "source": [
    "---"
   ]
  }
 ],
 "metadata": {
  "kernelspec": {
   "display_name": "Python 3",
   "language": "python",
   "name": "python3"
  },
  "language_info": {
   "codemirror_mode": {
    "name": "ipython",
    "version": 3
   },
   "file_extension": ".py",
   "mimetype": "text/x-python",
   "name": "python",
   "nbconvert_exporter": "python",
   "pygments_lexer": "ipython3",
   "version": "3.8.3"
  }
 },
 "nbformat": 4,
 "nbformat_minor": 4
}
