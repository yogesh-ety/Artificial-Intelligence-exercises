{
 "cells": [
  {
   "cell_type": "markdown",
   "metadata": {},
   "source": [
    "# Exercise 6 - Statistical Reasoning - ‘k’ Nearest Neighbour"
   ]
  },
  {
   "cell_type": "markdown",
   "metadata": {},
   "source": [
    "### AIM:\n",
    "To write a python program to implement the 'k' Nearest Neighbour algorithm.\n",
    "\n",
    "### ALGORITHM :\n",
    "```\n",
    "Algorithm euclidian_dist(p1,p2)\n",
    "    Input : p1,p2 - points as Tuple()s\n",
    "   Output : euclidian distance between the two points\n",
    "    \n",
    "    return sqrt(\n",
    "        sum(\n",
    "            List([(p1[i]-p2[i])^2 for i <- 0 to p1.length])\n",
    "        )\n",
    "    )\n",
    "end Algorithm\n",
    "\n",
    "Algorithm KNN_classify(dataset,k,p)\n",
    "    Input : dataset – Dict() with class labels as keys\n",
    "                      and data_points for the class as values.\n",
    "            p - test point p(x,y),\n",
    "            k - number of nearest neighbour.\n",
    "   Output : predicted class of the test point \n",
    "     \n",
    "    dist=List([\n",
    "        Tuple(euclidian_dist(test_point,data_point),class)\n",
    "        for class in dataset\n",
    "        for data_point in class\n",
    "    ])\n",
    "     dist = first k elements of sorted(dist,ascending)\n",
    "     freqs = Dict(class:(freqency of class in dist) for class in data_set)\n",
    "     return (class with max value in freqs)\n",
    "end Algorithm\n",
    "```"
   ]
  },
  {
   "cell_type": "markdown",
   "metadata": {},
   "source": [
    "### SOURCE CODE :"
   ]
  },
  {
   "cell_type": "code",
   "execution_count": 1,
   "metadata": {},
   "outputs": [
    {
     "name": "stdout",
     "output_type": "stream",
     "text": [
      "The given test point (2.5, 7) is classified to: Class 1\n",
      "The given test point (7, 2.5) is classified to: Class 2\n"
     ]
    }
   ],
   "source": [
    "from math import sqrt\n",
    "def euclidian_dist(p1,p2):\n",
    "    return sqrt(\n",
    "        sum([(x1-x2)**2 for (x1,x2) in zip(p1,p2)])\n",
    "    )\n",
    "\n",
    "class KNNClassifier:\n",
    "    def __init__(self,data_set,k=3,dist=euclidian_dist):\n",
    "        self.data_set = data_set\n",
    "        self.k = k\n",
    "        self.dist = dist\n",
    "    \n",
    "    def classify(self,test_point):\n",
    "        distances = sorted([    \n",
    "            (self.dist(data_point,test_point),data_class)\n",
    "            for data_class in self.data_set\n",
    "            for data_point in self.data_set[data_class]\n",
    "        ])[:self.k]\n",
    "        freqs={data_class:0 for data_class in self.data_set}\n",
    "        for (_,data_class) in distances:\n",
    "            freqs[data_class]+=1\n",
    "        return max(freqs,key = freqs.get)\n",
    "\n",
    "if __name__ == \"__main__\":\n",
    "    data_set = {\n",
    "        \"Class 1\":{(1,12),(2,5),(3,6),(3,10),(3.5,8),(2,11),(2,9),(1,7)},\n",
    "        \"Class 2\":{(5,3),(3,2),(1.5,9),(7,2),(6,1),(3.8,1),(5.6,4),(4,2),(2,5)}\n",
    "    }\n",
    "    test_points= [(2.5,7),(7,2.5)]\n",
    "    classifier = KNNClassifier(data_set,3)\n",
    "    for test_point in test_points:\n",
    "        print(\n",
    "            f\"The given test point {test_point} is classified to:\",\n",
    "            classifier.classify(test_point)\n",
    "        )"
   ]
  },
  {
   "cell_type": "markdown",
   "metadata": {},
   "source": [
    "### Alternative method using numpy:"
   ]
  },
  {
   "cell_type": "code",
   "execution_count": 2,
   "metadata": {},
   "outputs": [],
   "source": [
    "import numpy as np\n",
    "\n",
    "def euclidian_dist_np(p1,p2):\n",
    "    return np.sqrt(np.sum((p1-p2)**2,axis=-1))\n",
    "\n",
    "class KNNClassifier:\n",
    "    def __init__(self,train_x,train_y,k=3,dist=euclidian_dist_np):\n",
    "        self.train_x = train_x\n",
    "        assert train_y.dtype == np.int, \"Class labels should be integers\"\n",
    "        self.train_y = train_y\n",
    "        self.k = k\n",
    "        self.dist = dist\n",
    "    \n",
    "    def classify(self,test_point):\n",
    "        k_nearest_classes = self.train_y[\n",
    "            # indexes of k nearest neignbours\n",
    "            np.argsort(self.dist(self.train_x,test_point))[:self.k] \n",
    "        ]\n",
    "        # maximum occuring class \n",
    "        return np.bincount(k_nearest_classes).argmax() "
   ]
  },
  {
   "cell_type": "code",
   "execution_count": 3,
   "metadata": {},
   "outputs": [
    {
     "name": "stdout",
     "output_type": "stream",
     "text": [
      "The given test point [2.5 7. ] is classified to Class : 1\n",
      "The given test point [7.  2.5] is classified to Class : 2\n"
     ]
    }
   ],
   "source": [
    "if __name__ == \"__main__\":\n",
    "    dataset = np.loadtxt(\"knn_dataset.csv\",dtype=np.float,delimiter=\",\")\n",
    "    train_x,train_y = dataset[:,:-1], dataset[:,-1].astype(np.int)\n",
    "    test_x= np.array([[2.5,7],[7,2.5]])\n",
    "    k = 3\n",
    "    classifier = KNNClassifier(train_x,train_y,k=k)\n",
    "    for test_vector in test_x:\n",
    "         print(\n",
    "            f\"The given test point {test_vector} is classified to Class :\",\n",
    "            classifier.classify(test_vector)\n",
    "        )"
   ]
  },
  {
   "cell_type": "markdown",
   "metadata": {},
   "source": [
    "---"
   ]
  }
 ],
 "metadata": {
  "kernelspec": {
   "display_name": "Python 3",
   "language": "python",
   "name": "python3"
  },
  "language_info": {
   "codemirror_mode": {
    "name": "ipython",
    "version": 3
   },
   "file_extension": ".py",
   "mimetype": "text/x-python",
   "name": "python",
   "nbconvert_exporter": "python",
   "pygments_lexer": "ipython3",
   "version": "3.8.3"
  }
 },
 "nbformat": 4,
 "nbformat_minor": 4
}
