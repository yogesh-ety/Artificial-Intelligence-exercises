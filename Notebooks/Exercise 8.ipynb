{
 "cells": [
  {
   "cell_type": "markdown",
   "metadata": {},
   "source": [
    "# Exercise 8 - Game Playing\n",
    "## a) MIN-MAX ALGORITHM"
   ]
  },
  {
   "cell_type": "markdown",
   "metadata": {},
   "source": [
    "### AIM:\n",
    "To write a python program to implement minimax algorithm.\n",
    "\n",
    "### ALGORITHM:\n",
    "```\n",
    "Algorithm MiniMax(node, depth ,maxTurn ,scores ,treeDepth)\n",
    "    Input : node - current node\n",
    "            depth - depth of the current ply\n",
    "            maxTurn - Bool() whether it is maximizer's ply\n",
    "            scores - List() containing scores of the last ply\n",
    "            treeDepth - The depth of the game tree\n",
    "   Output : best value for the player\n",
    "   \n",
    "    if depth = treeDepth\n",
    "        return scores[node]\n",
    "    if maxTurn\n",
    "        return max(\n",
    "            minimax(child_node, depth +1, False, scores,treeDepth)\n",
    "            for child_node in childeren(node)\n",
    "        )\n",
    "    else\n",
    "        return min(\n",
    "            minimax(child_node, depth +1, True, scores,treeDepth)\n",
    "            for child_node in childeren(node)\n",
    "        )\n",
    "end Algorithm\n",
    "```"
   ]
  },
  {
   "cell_type": "markdown",
   "metadata": {},
   "source": [
    "### SOURCE CODE:"
   ]
  },
  {
   "cell_type": "code",
   "execution_count": 1,
   "metadata": {},
   "outputs": [
    {
     "name": "stdout",
     "output_type": "stream",
     "text": [
      "The optimal value is : 12\n"
     ]
    }
   ],
   "source": [
    "import math\n",
    "\n",
    "def minimax (node,depth, max_turn, scores, target_depth):\n",
    "    if (depth == target_depth):\n",
    "        return scores[node]\n",
    "    if max_turn:\n",
    "        return max(\n",
    "            minimax(node * 2,depth + 1,False, scores, target_depth),\n",
    "            minimax(node * 2 + 1, depth + 1,False, scores, target_depth)\n",
    "        )\n",
    "    else:\n",
    "        return min(\n",
    "            minimax(node * 2, depth + 1,True, scores, target_depth),\n",
    "            minimax(node * 2 + 1, depth + 1,True, scores, target_depth)\n",
    "        )\n",
    "\n",
    "if __name__ == \"__main__\":\n",
    "    scores = [3, 5, 2, 9, 12, 5, 23, 23]\n",
    "    tree_depth = math.log(len(scores), 2)\n",
    "    print(\"The optimal value is :\",\n",
    "        minimax(0, 0, True, scores, tree_depth)\n",
    "    )"
   ]
  },
  {
   "cell_type": "markdown",
   "metadata": {},
   "source": [
    "---"
   ]
  },
  {
   "cell_type": "markdown",
   "metadata": {},
   "source": [
    "## b) ALPHA-BETA PRUNING"
   ]
  },
  {
   "cell_type": "markdown",
   "metadata": {},
   "source": [
    "### AIM:\n",
    "To write a python program to implement minimax algorithm with alpha-beta pruning.\n",
    "\n",
    "### ALGORITHM:\n",
    "```\n",
    "Algorithm MiniMax(node, depth ,maxTurn ,scores ,treeDepth, alpha, beta)\n",
    "    Input : node - current node\n",
    "            depth - depth of the current ply\n",
    "            maxTurn - Bool() whether it is maximizer's ply\n",
    "            scores - List() containing scores of the last ply\n",
    "            treeDepth - The depth of the game tree\n",
    "            alpha - best value along the path of the maximizer\n",
    "            beta - best value along the path of the minimizer\n",
    "            \n",
    "   Output : best value for the player\n",
    "   \n",
    "    if depth = treeDepth\n",
    "        return scores[node]\n",
    "    if maxTurn\n",
    "        best <- -INFINITY\n",
    "        for child_node in children(node)\n",
    "            best <- max(\n",
    "                minimax(child_node, depth +1, False, scores,treeDepth,alpha,beta),\n",
    "                best\n",
    "            )\n",
    "            alpha <- max( alpha, best)\n",
    "            if beta <= alpha\n",
    "                break\n",
    "        return best\n",
    "    else\n",
    "        best <- INFINITY\n",
    "        for child_node in children(node)\n",
    "            best <- min(\n",
    "                minimax(child_node, depth+1, True, scores,treeDepth,alpha,beta),\n",
    "                best\n",
    "            )\n",
    "            beta <- min( beta , best)\n",
    "            if beta <= alpha:\n",
    "                break\n",
    "        return best\n",
    "end Algorithm\n",
    "```"
   ]
  },
  {
   "cell_type": "markdown",
   "metadata": {},
   "source": [
    "### SOURCE CODE:"
   ]
  },
  {
   "cell_type": "code",
   "execution_count": 1,
   "metadata": {},
   "outputs": [
    {
     "name": "stdout",
     "output_type": "stream",
     "text": [
      "The optimal value (using alpha-beta pruning) is : 5\n"
     ]
    }
   ],
   "source": [
    "import math\n",
    "MAX, MIN = 1000, -1000\n",
    "\n",
    "def minimax(node, depth, max_turn ,scores,tree_depth, alpha, beta): \n",
    "    if depth == tree_depth:\n",
    "        return scores[node]\n",
    "    if max_turn:\n",
    "        best = MIN\n",
    "        for i in range(0, 2):\n",
    "            val = minimax(node * 2 + i, depth + 1, False, scores, tree_depth, alpha, beta)\n",
    "            best = max(best, val)\n",
    "            alpha = max(alpha, best) \n",
    "            if beta <= alpha:\n",
    "                break\n",
    "        return best\n",
    "    else:\n",
    "        best = MAX\n",
    "        for i in range(0, 2):\n",
    "            val = minimax(node * 2 + i, depth + 1, True, scores, tree_depth, alpha, beta)\n",
    "            best = min(best, val)\n",
    "            beta = min(beta, best)\n",
    "            if beta <= alpha:\n",
    "                    break\n",
    "        return best\n",
    "if __name__ == \"__main__\":\n",
    "    scores = [3, 5, 6, 9, 1, 2, 0, -1]\n",
    "    tree_depth = math.log(len(scores), 2)\n",
    "    print(\"The optimal value (using alpha-beta pruning) is :\",\n",
    "        minimax(0, 0, True, scores, tree_depth,MIN,MAX)\n",
    "    )"
   ]
  },
  {
   "cell_type": "markdown",
   "metadata": {},
   "source": [
    "---"
   ]
  }
 ],
 "metadata": {
  "kernelspec": {
   "display_name": "Python 3",
   "language": "python",
   "name": "python3"
  },
  "language_info": {
   "codemirror_mode": {
    "name": "ipython",
    "version": 3
   },
   "file_extension": ".py",
   "mimetype": "text/x-python",
   "name": "python",
   "nbconvert_exporter": "python",
   "pygments_lexer": "ipython3",
   "version": "3.8.3"
  }
 },
 "nbformat": 4,
 "nbformat_minor": 4
}
