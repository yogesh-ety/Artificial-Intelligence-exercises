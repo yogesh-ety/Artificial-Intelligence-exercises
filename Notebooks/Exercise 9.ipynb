{
 "cells": [
  {
   "cell_type": "markdown",
   "metadata": {},
   "source": [
    "# Exercise 9 -  Natural Language Processing\n",
    "\n",
    "## a)Tokenization and stemming using NLTK"
   ]
  },
  {
   "cell_type": "markdown",
   "metadata": {},
   "source": [
    "### AIM :\n",
    "To write a python program to Tokenize and stem words or sentences using NLTK\n",
    " "
   ]
  },
  {
   "cell_type": "markdown",
   "metadata": {},
   "source": [
    "### ABOUT THE MODULE:\n",
    "\n",
    "***Module*** - nltk\n",
    "         \n",
    "***Installation*** - pip install nltk\n",
    "       \n",
    "Stemming is the process of producing morphological variants of a root/base word\n",
    "               \n",
    "#### Class PorterStemmer\n",
    "\n",
    "PorterStemmer is an abstract base class from which the porter stemmer function is derived. Porter stemmer is one of the most gentle stemmers.\n",
    "\n",
    "##### Usage:\n",
    "```\n",
    "porter = PorterStemmer()\n",
    "porter.stem(\"string\")\n",
    "```\n",
    "\n",
    "#### Class LancasterStemmer\n",
    "\n",
    "LancasterStemmer is an abstract base class from which the lancaster stemmer function is derived. Lancaster stemmer is an aggresive stemmer.\n",
    "\n",
    "##### Usage:\n",
    "```\n",
    "lancaster =LancasterStemmer()\n",
    "lancaster.stem(\"string\")\n",
    "```\n",
    "\n",
    "#### Functions: \n",
    "\n",
    "**word_tokenize(string)** - List() of word in the given string\n",
    "\n",
    "**wordpunct_tokenize(string)** - Same as word_tokenize but also splits punctuations marks like \" ' , : etc..\n",
    "\n",
    "**sent_tokenize(string)** -  List() of sencences in the given string"
   ]
  },
  {
   "cell_type": "markdown",
   "metadata": {},
   "source": [
    "### SOURCE CODE :"
   ]
  },
  {
   "cell_type": "code",
   "execution_count": 1,
   "metadata": {},
   "outputs": [
    {
     "name": "stdout",
     "output_type": "stream",
     "text": [
      "STEMMING WORDS:\n",
      "\n",
      "STEMMER COMPARISION:\n",
      "\n",
      "----------------------------------------------------------------\n",
      "|        WORD        |   PORTER STEMMER   | LANCASTER STEMMER  |\n",
      "----------------------------------------------------------------\n",
      "|        cats        |        cat         |        cat         |\n",
      "|      trouble       |       troubl       |       troubl       |\n",
      "|     troubling      |       troubl       |       troubl       |\n",
      "|      troubled      |       troubl       |       troubl       |\n",
      "|       friend       |       friend       |       friend       |\n",
      "|      friends       |       friend       |       friend       |\n",
      "|     friendship     |     friendship     |       friend       |\n",
      "|    friendships     |     friendship     |       friend       |\n",
      "|       stabil       |       stabil       |       stabl        |\n",
      "|    destabilize     |      destabil      |        dest        |\n",
      "|  misunderstanding  |   misunderstand    |   misunderstand    |\n",
      "|      railroad      |      railroad      |      railroad      |\n",
      "|     moonlight      |     moonlight      |     moonlight      |\n",
      "|      football      |      footbal       |      footbal       |\n",
      "----------------------------------------------------------------\n",
      "\n",
      "================================================================================\n",
      "\n",
      "STEMMING PASSAGES:\n",
      "\n",
      "ORIGINAL PASSAGE :\n",
      "\n",
      "Pythoners are very intelligent and work very pythonly and now they are pythoning their way to success. 'cause python's a very intelligent language. The Internet of things (IoT) is a system of interrelated computing devices, mechanical and digital machines provided with unique identifiers (UIDs) and  the ability to transfer data over a network without requiring human-to-human  or human-to-computer interaction.\n",
      "\n",
      "STEMMED PASSAGE :\n",
      "\n",
      "python are veri intellig and work veri pythonli and now they are python their way to success . 'caus python 's a veri intellig languag . the internet of thing ( iot ) is a system of interrel comput devic , mechan and digit machin provid with uniqu identifi ( uid ) and the abil to transfer data over a network without requir human-to-human or human-to-comput interact .\n",
      "\n",
      "STEMMED PASSAGE (using wordpunct_tokenizer) :\n",
      "\n",
      "python are veri intellig and work veri pythonli and now they are python their way to success . ' caus python ' s a veri intellig languag . the internet of thing ( iot ) is a system of interrel comput devic , mechan and digit machin provid with uniqu identifi ( uid ) and the abil to transfer data over a network without requir human - to - human or human - to - comput interact .\n",
      "\n",
      "================================================================================\n",
      "\n"
     ]
    }
   ],
   "source": [
    "from nltk import (\n",
    "    PorterStemmer, LancasterStemmer,\n",
    "    word_tokenize, wordpunct_tokenize, sent_tokenize\n",
    ")\n",
    "import yaml\n",
    "\n",
    "porter = PorterStemmer()\n",
    "lancaster = LancasterStemmer()\n",
    "\n",
    "line = \"\\n\"+\"=\"*80+\"\\n\"\n",
    "\n",
    "def stem_passage(passage,punct_tokenize = False):\n",
    "    return \" \".join(\n",
    "        stem_sentence(sentence,punct_tokenize)\n",
    "        for sentence in sent_tokenize(passage)\n",
    "    )\n",
    "\n",
    "def stem_sentence(sentence,punct_tokenize=False):\n",
    "    tokenizer_func = wordpunct_tokenize if punct_tokenize else word_tokenize\n",
    "    return \" \".join(\n",
    "        porter.stem(word)\n",
    "        for word in tokenizer_func(sentence)\n",
    "    )\n",
    "\n",
    "if __name__ == \"__main__\":\n",
    "    with open(\"stemming.yaml\") as f:\n",
    "        stemming_words, stemming_passage = yaml.full_load(f).values()\n",
    "    print(\n",
    "        \"STEMMING WORDS:\\n\",\n",
    "        \"STEMMER COMPARISION:\\n\",sep = \"\\n\"\n",
    "    )\n",
    "    print(\"-\"*64)\n",
    "    print(f\"|{'WORD':^20}|{'PORTER STEMMER':^20}|{'LANCASTER STEMMER':^20}|\")\n",
    "    print(\"-\"*64)\n",
    "    for word in stemming_words:\n",
    "        print(f\"|{word:^20}|{porter.stem(word):^20}|{lancaster.stem(word):^20}|\")\n",
    "    print(\"-\"*64)\n",
    "    print(line)\n",
    "\n",
    "    print(\"STEMMING PASSAGES:\\n\")\n",
    "    \n",
    "    print(\n",
    "        \"ORIGINAL PASSAGE :\\n\",\n",
    "        stemming_passage,\n",
    "        \"\\nSTEMMED PASSAGE :\\n\",\n",
    "        stem_passage(stemming_passage),\n",
    "        \"\\nSTEMMED PASSAGE (using wordpunct_tokenizer) :\\n\",\n",
    "        stem_passage(stemming_passage,True),sep=\"\\n\"\n",
    "    )\n",
    "    print(line)"
   ]
  },
  {
   "cell_type": "markdown",
   "metadata": {},
   "source": [
    "---"
   ]
  },
  {
   "cell_type": "markdown",
   "metadata": {},
   "source": [
    "## b) Spell Checking using Pyspellchecker"
   ]
  },
  {
   "cell_type": "markdown",
   "metadata": {},
   "source": [
    "### AIM :\n",
    "To write a python program to check the spelling of a word using pyspellchecker"
   ]
  },
  {
   "cell_type": "markdown",
   "metadata": {},
   "source": [
    "### ABOUT THE MODULE :\n",
    "\n",
    "***Module*** - pyspellchecker\n",
    "***Installation*** - pip intall pyspellchecker\n",
    "\n",
    "#### class SpellChecker\n",
    "The object of SpellChecker class has various function like correcting and finding similar words from a String.\n",
    "\n",
    "##### Usage:\n",
    "```\n",
    " spell= SpellChecker()\n",
    " spell.correction(word)\n",
    "```\n",
    "\n",
    "#### Functions \n",
    "\n",
    "**SpellChecker().correction(word)** - The  grammatically corrected string for the given word.\n",
    "     \n",
    "**SpellChecker().candidates(word)** - The set of words similar to the given word.\n",
    "\n",
    "**SpellChecker().unknown(words)** - The subset of misspelled words from the given words.\n",
    "\n",
    "**SpellChecker().word_probability(word)** -  The probability of the word being the desired, correct word\n",
    "    "
   ]
  },
  {
   "cell_type": "markdown",
   "metadata": {},
   "source": [
    "### SOURCE CODE :"
   ]
  },
  {
   "cell_type": "code",
   "execution_count": 2,
   "metadata": {},
   "outputs": [
    {
     "name": "stdout",
     "output_type": "stream",
     "text": [
      "SPELL CORRECTION:\n",
      "\n",
      "ORIGINAL SENTENCE:\n",
      "\n",
      "someting is happenning hete. Do yuo knw wht?\n",
      "\n",
      "WORDS:\n",
      "\n",
      "someting, is, happenning, hete, ., Do, yuo, knw, wht, ?\n",
      "\n",
      "MISSPELLED WORDS:\n",
      "\n",
      "knw, yuo, happenning, hete, someting, wht\n",
      "\n",
      "CORRECTED SENTENCE:\n",
      "\n",
      "something is happening here . Do you know what ?\n",
      "\n",
      "================================================================================\n",
      "\n",
      "SPELL CHECKER TESTS:\n",
      "--------------------------------------------------------------------------------\n",
      "|    WORD     |  PROBABILITY  |           CANDIDATES           |  CORRECTION   |\n",
      "--------------------------------------------------------------------------------\n",
      "|  calandar   |      0.0      |            calendar            |   calendar    |\n",
      "| lightening  |   8.28e-07    |           lightening           |  lightening   |\n",
      "|   misspel   |      0.0      |            misspelt            |   misspelt    |\n",
      "|  necessary  |   0.000187    |           necessary            |   necessary   |\n",
      "|  bussiness  |      0.0      | fussiness, bossiness, business |   business    |\n",
      "|   recieve   |      0.0      |        relieve, receive        |    receive    |\n",
      "|   adress    |      0.0      |    andress, address, dress     |    address    |\n",
      "--------------------------------------------------------------------------------\n",
      "\n",
      "================================================================================\n",
      "\n"
     ]
    }
   ],
   "source": [
    "from spellchecker import SpellChecker\n",
    "from nltk import word_tokenize\n",
    "import yaml\n",
    "spell = SpellChecker()\n",
    "\n",
    "line = \"\\n\"+\"=\"*80+\"\\n\"\n",
    "    \n",
    "if __name__ == \"__main__\":\n",
    "    with open(\"spell_checking.yaml\") as f:\n",
    "        sentence,spell_check_words = yaml.full_load(f).values()\n",
    "    words = word_tokenize(sentence)\n",
    "    misspelled_words = spell.unknown(words)\n",
    "    correct_sentence = \" \".join(spell.correction(word) for word in words)\n",
    "    print(\n",
    "        \"SPELL CORRECTION:\",\n",
    "        \"\\nORIGINAL SENTENCE:\\n\",\n",
    "        sentence,\n",
    "        \"\\nWORDS:\\n\",\n",
    "        \", \".join(words),\n",
    "        \"\\nMISSPELLED WORDS:\\n\",\n",
    "        \", \".join(misspelled_words),\n",
    "        \"\\nCORRECTED SENTENCE:\\n\",\n",
    "        correct_sentence,sep=\"\\n\"\n",
    "    )\n",
    "    print(line)\n",
    "    print(\"SPELL CHECKER TESTS:\")\n",
    "    \n",
    "    print(\"-\"*80)\n",
    "    print(f\"|{'WORD':^13}|{'PROBABILITY':^15}|{'CANDIDATES':^32}|{'CORRECTION':^15}|\")\n",
    "    print(\"-\"*80)\n",
    "    for word in spell_check_words:\n",
    "        print(\n",
    "            f\"|{word:^13}\"\n",
    "            f\"|{spell.word_probability(word):^15.3}\"\n",
    "            f\"|{', '.join(spell.candidates(word)):^32}\"\n",
    "            f\"|{spell.correction(word):^15}|\"\n",
    "        )\n",
    "    print(\"-\"*80)\n",
    "    print(line)"
   ]
  },
  {
   "cell_type": "markdown",
   "metadata": {},
   "source": [
    "---"
   ]
  }
 ],
 "metadata": {
  "kernelspec": {
   "display_name": "Python 3.8.3 64-bit ('test': conda)",
   "language": "python",
   "name": "python38364bittestcondaeacc9aeeb2cc47fcad4d66ae875066bb"
  },
  "language_info": {
   "codemirror_mode": {
    "name": "ipython",
    "version": 3
   },
   "file_extension": ".py",
   "mimetype": "text/x-python",
   "name": "python",
   "nbconvert_exporter": "python",
   "pygments_lexer": "ipython3",
   "version": "3.8.3"
  }
 },
 "nbformat": 4,
 "nbformat_minor": 4
}
