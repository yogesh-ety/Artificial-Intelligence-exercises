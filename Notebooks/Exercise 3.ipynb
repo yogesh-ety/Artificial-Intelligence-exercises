{
 "cells": [
  {
   "cell_type": "markdown",
   "metadata": {},
   "source": [
    "# Exercise 3 - Constraint Satisfaction Problems\n",
    "## Magic Square"
   ]
  },
  {
   "cell_type": "markdown",
   "metadata": {},
   "source": [
    "### AIM:\n",
    "To write a python program to implement a Constraint Satisfaction Problem.\n",
    "\n",
    "### ALGORITHM:\n",
    "```\n",
    "Algorithm MagicSquare(m)\n",
    "    Input : m - a square matrix of order n\n",
    "   Output : Bool - wheather m is a magic square\n",
    "   \n",
    "    sums = Set([])\n",
    "    diag_b <- 0\n",
    "    diag_f <- 0\n",
    "    for i <- 0 to n\n",
    "        row <- 0\n",
    "        col <- 0 \n",
    "        for j <- 0 to n \n",
    "            row <- row + m[i][j]\n",
    "            col <- col + m[j][i]\n",
    "        sums.add(row)\n",
    "        sums.add(col)\n",
    "        diag_b <- diag_b + m[i][i]\n",
    "        diag_f <- diag_f + m[i][n-i-1]\n",
    "    sums.add(diag_b)\n",
    "    sums.add(diag_f)\n",
    "    return (not sums.length > 1)\n",
    "end Algorithm\n",
    "``` \n"
   ]
  },
  {
   "cell_type": "markdown",
   "metadata": {},
   "source": [
    "### SOURCE CODE:\n"
   ]
  },
  {
   "cell_type": "code",
   "execution_count": 6,
   "metadata": {},
   "outputs": [
    {
     "name": "stdout",
     "output_type": "stream",
     "text": [
      "False\n",
      "True\n"
     ]
    }
   ],
   "source": [
    "def columns(array): return zip(*array)\n",
    "def magic_square(m):\n",
    "    n = len(m)\n",
    "    row_sums = {sum(row) for row in m}\n",
    "    col_sums = {sum(col) for col in columns(m)}\n",
    "    diagonal_sums = {\n",
    "        sum([m[i][i] for i in range(n)]),\n",
    "        sum([m[i][-i-1] for i in range(n)])\n",
    "    }\n",
    "    sums = row_sums|col_sums|diagonal_sums\n",
    "    return len(sums)==1\n",
    "\n",
    "if __name__ == \"__main__\":\n",
    "    square1 = [\n",
    "        [1,2,3],\n",
    "        [4,5,6],\n",
    "        [7,8,9]\n",
    "    ]\n",
    "    square2 =[\n",
    "        [2,7,6],\n",
    "        [9,5,1],\n",
    "        [4,3,8]\n",
    "    ]\n",
    "    print(magic_square(square1))\n",
    "    print(magic_square(square2))"
   ]
  },
  {
   "cell_type": "markdown",
   "metadata": {},
   "source": [
    "### Alternate method using numpy:"
   ]
  },
  {
   "cell_type": "code",
   "execution_count": 3,
   "metadata": {},
   "outputs": [
    {
     "name": "stdout",
     "output_type": "stream",
     "text": [
      "False\n",
      "True\n"
     ]
    }
   ],
   "source": [
    "import numpy as np\n",
    "\n",
    "def magic_square(m):\n",
    "    m = np.array(m)\n",
    "    n = m.shape[0]\n",
    "    sums = {\n",
    "        *m.sum(1), # row sums\n",
    "        *m.sum(0), # col sums\n",
    "        m.diagonal().sum(), # backward diagonal sum\n",
    "        np.fliplr(m).diagonal().sum() # forward diagonal sum\n",
    "    }\n",
    "    return len(sums)  == 1\n",
    "\n",
    "if __name__ == \"__main__\":\n",
    "    square1 = [\n",
    "        [1,2,3],\n",
    "        [4,5,6],\n",
    "        [7,8,9]\n",
    "    ]\n",
    "    square2 =[\n",
    "        [2,7,6],\n",
    "        [9,5,1],\n",
    "        [4,3,8]\n",
    "    ]\n",
    "    print(magic_square2(square1))\n",
    "    print(magic_square2(square2))"
   ]
  },
  {
   "cell_type": "markdown",
   "metadata": {},
   "source": [
    "---\n",
    "\n"
   ]
  }
 ],
 "metadata": {
  "kernelspec": {
   "display_name": "Python 3",
   "language": "python",
   "name": "python3"
  },
  "language_info": {
   "codemirror_mode": {
    "name": "ipython",
    "version": 3
   },
   "file_extension": ".py",
   "mimetype": "text/x-python",
   "name": "python",
   "nbconvert_exporter": "python",
   "pygments_lexer": "ipython3",
   "version": "3.8.3"
  }
 },
 "nbformat": 4,
 "nbformat_minor": 4
}
